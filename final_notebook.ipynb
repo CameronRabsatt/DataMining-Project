{
  "cells": [
    {
      "cell_type": "markdown",
      "metadata": {
        "id": "view-in-github",
        "colab_type": "text"
      },
      "source": [
        "<a href=\"https://colab.research.google.com/github/CameronRabsatt/DataMining-Project/blob/main/final_notebook.ipynb\" target=\"_parent\"><img src=\"https://colab.research.google.com/assets/colab-badge.svg\" alt=\"Open In Colab\"/></a>"
      ]
    },
    {
      "cell_type": "code",
      "source": [],
      "metadata": {
        "id": "zT91Iz4xyURP"
      },
      "id": "zT91Iz4xyURP",
      "execution_count": null,
      "outputs": []
    },
    {
      "cell_type": "markdown",
      "id": "23ffe11c",
      "metadata": {
        "id": "23ffe11c"
      },
      "source": [
        "# Data Mining Final Project\n",
        "\n",
        "This notebook follows the CRISP-DM process. Cameron Rabsatt 2025\n"
      ]
    },
    {
      "cell_type": "code",
      "execution_count": null,
      "id": "318907c5",
      "metadata": {
        "id": "318907c5"
      },
      "outputs": [],
      "source": [
        "# Import necessary libraries\n",
        "import pandas as pd\n",
        "import numpy as np"
      ]
    },
    {
      "cell_type": "markdown",
      "id": "d85a5b7e",
      "metadata": {
        "id": "d85a5b7e"
      },
      "source": [
        "## Step 1: Business and Data Understanding"
      ]
    },
    {
      "cell_type": "code",
      "execution_count": null,
      "id": "3df41023",
      "metadata": {
        "id": "3df41023"
      },
      "outputs": [],
      "source": [
        "# Load your dataset\n",
        "# df = pd.read_csv('data/cleaned_dataset.csv')\n",
        "# df.head()"
      ]
    },
    {
      "cell_type": "markdown",
      "id": "4c536a95",
      "metadata": {
        "id": "4c536a95"
      },
      "source": [
        "Continue with your steps here..."
      ]
    }
  ],
  "metadata": {
    "colab": {
      "provenance": [],
      "name": "final_notebook.ipynb",
      "include_colab_link": true
    }
  },
  "nbformat": 4,
  "nbformat_minor": 5
}
